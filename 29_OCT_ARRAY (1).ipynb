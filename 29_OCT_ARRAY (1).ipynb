{
 "cells": [
  {
   "cell_type": "code",
   "execution_count": null,
   "id": "df503d0b-5e5d-47ef-af9e-e624be89339e",
   "metadata": {},
   "outputs": [],
   "source": [
    "Q.1. Given an array, check if it contains any duplicates or not. \n",
    "arr = [1, 2, 4, 2, 5, 9] \n",
    "\n",
    "Output = True."
   ]
  },
  {
   "cell_type": "code",
   "execution_count": 1,
   "id": "360ff2b2-48fa-450b-977d-e8a26c728e3c",
   "metadata": {},
   "outputs": [
    {
     "name": "stdout",
     "output_type": "stream",
     "text": [
      "array contains the duplicates\n"
     ]
    }
   ],
   "source": [
    "def has_duplicates(arr):\n",
    "    t = set()   # here we use set to check if array has duplicates \n",
    "    for item in arr:\n",
    "        if item in t :\n",
    "            return True\n",
    "        t.add(item)\n",
    "    return False\n",
    "    \n",
    "\n",
    "# Driver code\n",
    "array = [1,2,4,2,5,9]\n",
    "if has_duplicates(array):\n",
    "    print(\"array contains the duplicates\")\n",
    "    \n",
    "else :\n",
    "    print(\"array does not contains the duplicates\")  \n",
    "     \n",
    "    "
   ]
  },
  {
   "cell_type": "code",
   "execution_count": null,
   "id": "9d25ea2e-a107-496b-a8f1-2c541806ca82",
   "metadata": {},
   "outputs": [],
   "source": [
    "Q.2 Given an array and an integer k, rotate the array to the right by k steps. \n",
    "arr = [1, 2, 3, 4, 5, 6, 7] k = 3 \n",
    "\n",
    "Output = [5, 6, 7, 1, 2, 3, 4]"
   ]
  },
  {
   "cell_type": "code",
   "execution_count": 2,
   "id": "935b41d9-50dd-41a1-ac30-fcd80bda50a2",
   "metadata": {},
   "outputs": [
    {
     "name": "stdout",
     "output_type": "stream",
     "text": [
      "[5, 6, 7, 1, 2, 3, 4]\n"
     ]
    }
   ],
   "source": [
    "def rotate(nums, k):\n",
    "    if k<=0:\n",
    "        return nums\n",
    "    \n",
    "    n = len(nums)\n",
    "    k = k % n  # ensure k is within thw array length\n",
    "    \n",
    "    #create a new array to store the rotated value\n",
    "    rotated = [0] * n\n",
    "    \n",
    "    for i in range(n):\n",
    "        rotated[(i + k ) % n] = nums[i]\n",
    "        \n",
    "    return rotated\n",
    "    \n",
    "#driver code\n",
    "array1 = [1, 2, 3, 4, 5, 6, 7]\n",
    "k = 3\n",
    "result = rotate(array1, 3)\n",
    "print(result)"
   ]
  },
  {
   "cell_type": "code",
   "execution_count": null,
   "id": "46bed480-210b-425e-a627-4f9231835f86",
   "metadata": {},
   "outputs": [],
   "source": [
    "Q.3. Reverse the given array in-place, means without using any extra data structure. \n",
    "arr = [2, 4, 5, 7, 9, 12] \n",
    "\n",
    "Output = [12, 9, 7, 5, 4, 2]"
   ]
  },
  {
   "cell_type": "code",
   "execution_count": 3,
   "id": "e3da205f-8def-4c80-ab98-2941ef9157cf",
   "metadata": {},
   "outputs": [
    {
     "data": {
      "text/plain": [
       "[12, 9, 7, 5, 4, 2]"
      ]
     },
     "execution_count": 3,
     "metadata": {},
     "output_type": "execute_result"
    }
   ],
   "source": [
    "arr = [2, 4, 5, 7, 9, 12] \n",
    "arr[ : : -1] #reverse the array by indexing method"
   ]
  },
  {
   "cell_type": "code",
   "execution_count": 4,
   "id": "46380dfb-278e-46ce-b92e-d54f02d6b7a5",
   "metadata": {},
   "outputs": [
    {
     "name": "stdout",
     "output_type": "stream",
     "text": [
      "[12, 9, 7, 5, 4, 2]\n"
     ]
    }
   ],
   "source": [
    "arr = [2, 4, 5, 7, 9, 12] \n",
    "arr.reverse() # reverse by calling function itself\n",
    "print(arr)"
   ]
  },
  {
   "cell_type": "code",
   "execution_count": null,
   "id": "5c660d56-f0c0-4120-8f82-9653f3c10aea",
   "metadata": {},
   "outputs": [],
   "source": [
    "4. Given an array of integers, find the maximum element in an array\n",
    "arr = [10, 5, 20, 8, 15]\n",
    "\n",
    " Output = 20"
   ]
  },
  {
   "cell_type": "code",
   "execution_count": 5,
   "id": "df77517a-d910-40e1-b172-2f3dfb4722e7",
   "metadata": {},
   "outputs": [
    {
     "name": "stdout",
     "output_type": "stream",
     "text": [
      "max element in array is :  20\n"
     ]
    }
   ],
   "source": [
    "def find_maximum(arr):  #function calling\n",
    "    if not arr :\n",
    "        return none\n",
    "    \n",
    "    max_value = arr[0] # initialize max value wirh first element\n",
    "    \n",
    "    for num in arr:\n",
    "        if num > max_value :\n",
    "            max_value = num\n",
    "            \n",
    "    return max_value\n",
    "## driver code\n",
    "arr = [10, 5, 20, 8, 15]\n",
    "max_element = find_maximum(arr)\n",
    "print(\"max element in array is : \" , max_element)\n"
   ]
  },
  {
   "cell_type": "code",
   "execution_count": null,
   "id": "a51a2aca-c2b7-4d36-8506-ef472388c5b0",
   "metadata": {},
   "outputs": [],
   "source": [
    "5. Given a sorted array, remove the duplicate element without using any extra data structure. \n",
    "arr = [1, 1, 2, 2, 2, 3, 3, 4, 4, 4, 5, 5] \n",
    "\n",
    "Output = [1, 2, 3, 4, 5]"
   ]
  },
  {
   "cell_type": "code",
   "execution_count": 6,
   "id": "516428e3-acf4-4391-8863-9601734c7219",
   "metadata": {},
   "outputs": [],
   "source": [
    "sorted_array = [1, 1, 2, 2, 2, 3, 3, 4, 4, 4, 5, 5]\n",
    "\n",
    "unique_array = sorted(list(set(sorted_array)))   # here we use set function to remove duplicates from array list and give ans in sorted way"
   ]
  },
  {
   "cell_type": "code",
   "execution_count": 7,
   "id": "d44c0294-2db7-446e-9f70-44b43bafb8e9",
   "metadata": {},
   "outputs": [
    {
     "data": {
      "text/plain": [
       "[1, 2, 3, 4, 5]"
      ]
     },
     "execution_count": 7,
     "metadata": {},
     "output_type": "execute_result"
    }
   ],
   "source": [
    "unique_array"
   ]
  },
  {
   "cell_type": "code",
   "execution_count": null,
   "id": "d3e92bea-7afc-47ba-b86a-5662afe75ec1",
   "metadata": {},
   "outputs": [],
   "source": []
  }
 ],
 "metadata": {
  "kernelspec": {
   "display_name": "Python 3 (ipykernel)",
   "language": "python",
   "name": "python3"
  },
  "language_info": {
   "codemirror_mode": {
    "name": "ipython",
    "version": 3
   },
   "file_extension": ".py",
   "mimetype": "text/x-python",
   "name": "python",
   "nbconvert_exporter": "python",
   "pygments_lexer": "ipython3",
   "version": "3.10.8"
  }
 },
 "nbformat": 4,
 "nbformat_minor": 5
}
